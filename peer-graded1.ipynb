{
 "cells": [
  {
   "cell_type": "markdown",
   "metadata": {},
   "source": [
    "<center>\n",
    "    <img src=\"https://cf-courses-data.s3.us.cloud-object-storage.appdomain.cloud/IBMDeveloperSkillsNetwork-DS0105EN-SkillsNetwork/labs/Module2/images/SN_web_lightmode.png\" width=\"300\" alt=\"cognitiveclass.ai logo\">\n",
    "</center>\n"
   ]
  },
  {
   "cell_type": "markdown",
   "metadata": {},
   "source": [
    "#### Add your code below following the instructions given in the course\n"
   ]
  },
  {
   "cell_type": "code",
   "execution_count": 1,
   "metadata": {},
   "outputs": [],
   "source": [
    "# Exercise 2 - Create a markdown cell with the title of the notebook. (1 pt)"
   ]
  },
  {
   "cell_type": "markdown",
   "metadata": {},
   "source": [
    "# Peer-graded Assignment 1\n",
    "*Tools for Data Science -> Module 6*\n"
   ]
  },
  {
   "cell_type": "markdown",
   "metadata": {},
   "source": [
    "## Exercise 3 - Create a markdown cell for an introduction. (1 pt)\n"
   ]
  },
  {
   "cell_type": "markdown",
   "metadata": {},
   "source": [
    "This is the first peer-graded assignment, focus on using Jupyter Notebook, Markdown and GitHub."
   ]
  },
  {
   "cell_type": "markdown",
   "metadata": {},
   "source": [
    "## Exercise 4 - Create a markdown cell to list data science languages. (3 pts)\n"
   ]
  },
  {
   "cell_type": "markdown",
   "metadata": {},
   "source": [
    "**Data Science Language**\n",
    "- Python\n",
    "- R\n",
    "- SQL\n",
    "- Java\n",
    "- Scala\n",
    "- C++\n",
    "- JavaScript\n",
    "- MATLAB"
   ]
  },
  {
   "cell_type": "markdown",
   "metadata": {},
   "source": [
    "## Exercise 5 - Create a markdown cell to list data science libraries. (3 pts)\n"
   ]
  },
  {
   "cell_type": "markdown",
   "metadata": {},
   "source": [
    "**List data science libraries, using Python as an example:**\n",
    "1. NumPy\n",
    "2. Pandas\n",
    "3. SciPy\n",
    "4. Scikit-learn\n",
    "5. TensorFlow\n",
    "6. Keras\n",
    "7. PyTorch\n",
    "8. Matplotlib\n",
    "9. Seaborn"
   ]
  },
  {
   "cell_type": "markdown",
   "metadata": {},
   "source": [
    "## Exercise 6 - Create a markdown cell with a table of Data Science tools. (3 pts)"
   ]
  },
  {
   "cell_type": "markdown",
   "metadata": {},
   "source": [
    "| #  | Tool Name       | Description                                                   | Purpose                                      |\n",
    "|----|----------------|---------------------------------------------------------------|----------------------------------------------|\n",
    "| 1  | Jupyter Notebook | Web-based interactive computational environment | For data analysis, visualization, and machine learning |\n",
    "| 2  | Python         | Programming language | General-purpose programming, data manipulation, and development of machine learning models |\n",
    "| 3  | R              | Programming language | Statistical computing and graphics |\n",
    "| 4  | NumPy          | Library for numerical computing | Efficient array operations and mathematical functions |\n",
    "| 5  | Pandas         | Library for data manipulation and analysis | For handling structured data |\n",
    "| 6  | Matplotlib     | Plotting library | For creating static, interactive, and animated visualizations |\n",
    "| 7  | Seaborn        | Data visualization library | Based on Matplotlib, for creating statistical graphics |\n",
    "| 8  | SciPy          | Library for scientific computing | For technical computing, optimization, and signal processing |\n",
    "| 9  | Scikit-learn   | Machine learning library | For simple and efficient data mining and data analysis tools |\n",
    "| 10 | TensorFlow     | Open-source machine learning framework | For numerical computation and large-scale machine learning |\n"
   ]
  },
  {
   "cell_type": "markdown",
   "metadata": {},
   "source": [
    "## Exercise 7 - Create a markdown cell introducing arithmetic expression examples. (1 pt)\n"
   ]
  },
  {
   "cell_type": "markdown",
   "metadata": {},
   "source": [
    "### Arithmetic Expression Examples\n",
    "\n",
    "This section provides a few examples of arithmetic expressions to demonstrate basic mathematical operations:\n",
    "\n",
    "1. **Addition**: The sum of two numbers.\n",
    "   \\[ 3 + 4 = 7 \\]\n",
    "\n",
    "2. **Subtraction**: The difference between two numbers.\n",
    "   \\[ 8 - 3 = 5 \\]\n",
    "\n",
    "3. **Multiplication**: The product of two numbers.\n",
    "   \\[ 6 \\times 2 = 12 \\]\n",
    "\n",
    "4. **Division**: The quotient of two numbers.\n",
    "   \\[ 10 \\div 2 = 5 \\]\n"
   ]
  },
  {
   "cell_type": "markdown",
   "metadata": {},
   "source": [
    "## Exercise 8 - Create a code cell to multiply and add numbers. (2 pts)\n"
   ]
  },
  {
   "cell_type": "code",
   "execution_count": 8,
   "metadata": {},
   "outputs": [
    {
     "name": "stdout",
     "output_type": "stream",
     "text": [
      "Example of multiply numbers: 2*3 = 6\n"
     ]
    }
   ],
   "source": [
    "# multiply numbers\n",
    "print('Example of multiply numbers: 2*3 =',2*3)"
   ]
  },
  {
   "cell_type": "code",
   "execution_count": 9,
   "metadata": {},
   "outputs": [
    {
     "name": "stdout",
     "output_type": "stream",
     "text": [
      "Example of add numbers: 2+3 = 5\n"
     ]
    }
   ],
   "source": [
    "# add numbers\n",
    "print('Example of add numbers: 2+3 =',2+3)"
   ]
  },
  {
   "cell_type": "markdown",
   "metadata": {},
   "source": [
    "## Exercise 9 - Create a code cell to convert minutes to hours. (2 pts)\n"
   ]
  },
  {
   "cell_type": "code",
   "execution_count": 23,
   "metadata": {},
   "outputs": [
    {
     "name": "stdin",
     "output_type": "stream",
     "text": [
      " 30\n"
     ]
    },
    {
     "name": "stdout",
     "output_type": "stream",
     "text": [
      "Convert 30.0 minutes into hours is: 0.5\n"
     ]
    }
   ],
   "source": [
    "\"\"\"\n",
    "Input the number of minutes will output the correcponding value of hours.\n",
    "Use \"Enter\" to end input.\n",
    "\"\"\"\n",
    "\n",
    "n = float(input())\n",
    "print(f\"Convert {n} minutes into hours is: {n/60}\")"
   ]
  },
  {
   "cell_type": "markdown",
   "metadata": {},
   "source": [
    "## Exercise 10 -Insert a markdown cell to list Objectives. (3 pts)\n"
   ]
  },
  {
   "cell_type": "markdown",
   "metadata": {},
   "source": [
    "# Objectives\n",
    "\n",
    "1. **Understand Core Concepts**: Grasp the fundamental principles of data science, including data manipulation, visualization, and machine learning algorithms.\n",
    "\n",
    "2. **Master Tools and Techniques**: Become proficient in using data science tools such as Python, R, and various libraries for data analysis and modeling.\n",
    "\n",
    "3. **Data Analysis**: Learn to analyze data effectively, identifying trends, patterns, and insights that can inform decision-making.\n",
    "\n",
    "4. **Predictive Modeling**: Develop skills to create predictive models that can forecast outcomes based on historical data.\n",
    "\n",
    "5. **Communication**: Improve the ability to communicate data findings through visualizations and clear, concise reporting.\n",
    "\n",
    "6. **Problem-Solving**: Enhance problem-solving capabilities by applying data science methodologies to real-world challenges.\n"
   ]
  },
  {
   "cell_type": "markdown",
   "metadata": {},
   "source": [
    "## Exercise 11 - Create a markdown cell to indicate the Author’s name. (2 pts)\n"
   ]
  },
  {
   "cell_type": "markdown",
   "metadata": {},
   "source": [
    "### Author's name:\n",
    "Zhen"
   ]
  },
  {
   "cell_type": "markdown",
   "metadata": {},
   "source": [
    "## Exercise 12 - Share your notebook through GitHub (3 pts)\n"
   ]
  },
  {
   "cell_type": "code",
   "execution_count": null,
   "metadata": {},
   "outputs": [],
   "source": []
  },
  {
   "cell_type": "markdown",
   "metadata": {},
   "source": [
    "## Exercise 13 - Take a screenshot of the first page of the notebook. (1 pt)"
   ]
  },
  {
   "cell_type": "code",
   "execution_count": null,
   "metadata": {},
   "outputs": [],
   "source": []
  }
 ],
 "metadata": {
  "kernelspec": {
   "display_name": "Python 3 (ipykernel)",
   "language": "python",
   "name": "python3"
  },
  "language_info": {
   "codemirror_mode": {
    "name": "ipython",
    "version": 3
   },
   "file_extension": ".py",
   "mimetype": "text/x-python",
   "name": "python",
   "nbconvert_exporter": "python",
   "pygments_lexer": "ipython3",
   "version": "3.11.9"
  }
 },
 "nbformat": 4,
 "nbformat_minor": 4
}
